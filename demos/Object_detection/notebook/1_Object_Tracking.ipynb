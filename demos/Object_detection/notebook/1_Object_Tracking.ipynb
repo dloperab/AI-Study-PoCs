{
 "cells": [
  {
   "cell_type": "markdown",
   "metadata": {},
   "source": [
    "## Object Tracking\n",
    "\n",
    "## Video analyis\n",
    "\n",
    "- Video cameras are the main sources of new data in the Internet\n",
    "- Your cameras are widely available almost each mobile device, my phone or tablet, PC has a video camera nowadays\n",
    "- Video surveillance cameras are mounted also everywhere\n",
    "- Their camera starts from common dashboard cameras to cameras on autonomous vehicles\n",
    "\n",
    "## What is a video?\n",
    "- an ordered set of frames of the same resolution\n",
    "- usually frames are taken at regular time intervals\n",
    "- Video stream: an ongoing video for on-line real-time processing.\n",
    "- Video sequence: A video of fixed lenght\n",
    "- Consumer videos: from 3-5 fps to 30-50 fps\n",
    "- Resolution: from 320x240 to 1920x1080(Full HD) to 4K\n",
    "- Color model: Gray or RGB\n",
    "- Data stream: 2Mb(1channel of fullHD)x3(RGB)*50 fps=300 Mb/sec\n",
    "- There are some algortihms capables to reconstruct the higher resolution information that is removed from video during compression\n",
    "\n",
    "## What could you do with the video?\n",
    "- Detect all objects\n",
    "- Ientify their properties(human poise estimation, attributes estimations, identification)\n",
    "- Recognize people actions and events\n",
    "\n",
    "## What is object tracking?\n",
    "- >The goal of object tracking is segmenting a region of interest from a video scene and keeping track of its motion, positioning and occlusion in each frame\n",
    "\n",
    "## How the tracking is done?\n",
    "> The object detection and object classification are preceding steps for tracking an object in sequence of images.\n",
    "1. Object detection is performed to check existence of objects in video and to precisely locate that object. \n",
    "2. Then detected object can be classified in various categories such as humans, vehicles, birds, floating,clouds, swaying tree and other moving objects\n",
    "3. Object tracking is performed using monitoring objects’ spatial and temporal changes during a video sequence, including its presence, position, size, shape, etc.\n"
   ]
  }
 ],
 "metadata": {
  "kernelspec": {
   "display_name": "Python 3",
   "language": "python",
   "name": "python3"
  },
  "language_info": {
   "codemirror_mode": {
    "name": "ipython",
    "version": 3
   },
   "file_extension": ".py",
   "mimetype": "text/x-python",
   "name": "python",
   "nbconvert_exporter": "python",
   "pygments_lexer": "ipython3",
   "version": "3.6.8"
  }
 },
 "nbformat": 4,
 "nbformat_minor": 2
}
